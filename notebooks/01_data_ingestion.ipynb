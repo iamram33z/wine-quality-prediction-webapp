{
 "cells": [
  {
   "metadata": {
    "ExecuteTime": {
     "end_time": "2025-01-21T17:33:31.273036Z",
     "start_time": "2025-01-21T17:33:31.220914Z"
    }
   },
   "cell_type": "code",
   "source": [
    "import os\n",
    "\n",
    "from setuptools.archive_util import unpack_zipfile"
   ],
   "id": "2bee3122e0749c27",
   "outputs": [],
   "execution_count": 1
  },
  {
   "metadata": {
    "ExecuteTime": {
     "end_time": "2025-01-21T17:33:31.283560Z",
     "start_time": "2025-01-21T17:33:31.278053Z"
    }
   },
   "cell_type": "code",
   "source": "%pwd",
   "id": "c2b987b24b4bc8fa",
   "outputs": [
    {
     "data": {
      "text/plain": [
       "'C:\\\\Users\\\\RameezRassdeen\\\\Documents\\\\wine-quality-prediction-webapp\\\\notebooks'"
      ]
     },
     "execution_count": 2,
     "metadata": {},
     "output_type": "execute_result"
    }
   ],
   "execution_count": 2
  },
  {
   "metadata": {
    "ExecuteTime": {
     "end_time": "2025-01-21T17:33:31.410647Z",
     "start_time": "2025-01-21T17:33:31.406754Z"
    }
   },
   "cell_type": "code",
   "source": [
    "os.chdir('..')\n",
    "%pwd"
   ],
   "id": "6e19132b1b2021bf",
   "outputs": [
    {
     "data": {
      "text/plain": [
       "'C:\\\\Users\\\\RameezRassdeen\\\\Documents\\\\wine-quality-prediction-webapp'"
      ]
     },
     "execution_count": 3,
     "metadata": {},
     "output_type": "execute_result"
    }
   ],
   "execution_count": 3
  },
  {
   "metadata": {
    "ExecuteTime": {
     "end_time": "2025-01-21T17:33:31.426740Z",
     "start_time": "2025-01-21T17:33:31.420473Z"
    }
   },
   "cell_type": "code",
   "source": [
    "from dataclasses import dataclass\n",
    "from pathlib import Path\n",
    "\n",
    "@dataclass(frozen=True)\n",
    "class DataIngestionConfig:\n",
    "    \"\"\"\n",
    "    Configuration for data ingestion.\n",
    "    \"\"\"\n",
    "    root_dir: Path\n",
    "    source_URL: str\n",
    "    local_data_file: Path\n",
    "    unzip_dir: Path"
   ],
   "id": "591e536a8e89e504",
   "outputs": [],
   "execution_count": 4
  },
  {
   "metadata": {
    "ExecuteTime": {
     "end_time": "2025-01-21T17:33:31.548886Z",
     "start_time": "2025-01-21T17:33:31.436587Z"
    }
   },
   "cell_type": "code",
   "source": [
    "from wine_quality_prediction.constants import *\n",
    "from wine_quality_prediction.utils.common import read_yaml, create_directory"
   ],
   "id": "260b584be1bfc5bb",
   "outputs": [],
   "execution_count": 5
  },
  {
   "metadata": {
    "ExecuteTime": {
     "end_time": "2025-01-21T17:33:31.567440Z",
     "start_time": "2025-01-21T17:33:31.562332Z"
    }
   },
   "cell_type": "code",
   "source": [
    "class ConfigurationManager:\n",
    "    def __init__(self,\n",
    "            config_file_path: Path = CONFIG_FILE_PATH,\n",
    "            params_file_path: Path = PARAMS_FILE_PATH,\n",
    "            schema_file_path: Path = SCHEMA_FILE_PATH):\n",
    "\n",
    "            self.config = read_yaml(config_file_path)\n",
    "            self.params = read_yaml(params_file_path)\n",
    "            self.schema = read_yaml(schema_file_path)\n",
    "\n",
    "            create_directory([self.config.artifacts_root], verbose=True)\n",
    "\n",
    "\n",
    "    def get_data_ingestion_config(self) -> DataIngestionConfig:\n",
    "        config = self.config.data_ingestion\n",
    "\n",
    "        create_directory([config.root_dir], verbose=True)\n",
    "\n",
    "        data_ingestion_config_ = DataIngestionConfig(\n",
    "            root_dir=config.root_dir,\n",
    "            source_URL=config.source_URL,\n",
    "            local_data_file=config.local_data_file,\n",
    "            unzip_dir=config.unzip_dir\n",
    "        )\n",
    "\n",
    "        return data_ingestion_config_"
   ],
   "id": "6fb7f3abe5f3a219",
   "outputs": [],
   "execution_count": 6
  },
  {
   "metadata": {
    "ExecuteTime": {
     "end_time": "2025-01-21T17:33:31.579293Z",
     "start_time": "2025-01-21T17:33:31.575418Z"
    }
   },
   "cell_type": "code",
   "source": [
    "import os\n",
    "import urllib.request as request\n",
    "import zipfile\n",
    "from wine_quality_prediction import logger\n",
    "from wine_quality_prediction.utils.common import get_size\n",
    "from pathlib import Path"
   ],
   "id": "29af2e50f574d821",
   "outputs": [],
   "execution_count": 7
  },
  {
   "metadata": {
    "ExecuteTime": {
     "end_time": "2025-01-21T17:33:31.593685Z",
     "start_time": "2025-01-21T17:33:31.587895Z"
    }
   },
   "cell_type": "code",
   "source": [
    "# Defining the DataIngestion class\n",
    "class DataIngestion:\n",
    "    def __init__(self, config: DataIngestionConfig):\n",
    "        self.config = config\n",
    "\n",
    "    def download_data(self, headers=None):\n",
    "        if not os.path.exists(self.config.local_data_file):\n",
    "            filename, headers = request.urlretrieve(\n",
    "                url = self.config.source_URL,\n",
    "                filename = self.config.local_data_file\n",
    "            )\n",
    "            logger.info(f\"Data downloaded from the source URL: %s with the following info: \\n{headers}\", self.config.source_URL)\n",
    "        else:\n",
    "            logger.info(f\"Data already exists at the path: %s with the following size info: \\n{get_size(Path(self.config.local_data_file))}\", self.config.local_data_file)\n",
    "\n",
    "    def extract_zip(self):\n",
    "        unzip_path = self.config.unzip_dir\n",
    "        if not os.path.exists(unzip_path):\n",
    "            with zipfile.ZipFile(self.config.local_data_file, 'r') as zip_ref:\n",
    "                zip_ref.extractall(unzip_path)\n",
    "            logger.info(\"Data extracted to the path: %s\", unzip_path)\n",
    "            logger.info(\"Size of the extracted data:\")\n",
    "\n",
    "        else:\n",
    "            logger.info(\"Data already extracted at the path: %s\", unzip_path)\n",
    "            get_size(unzip_path)"
   ],
   "id": "bb69e61298709278",
   "outputs": [],
   "execution_count": 8
  },
  {
   "metadata": {
    "ExecuteTime": {
     "end_time": "2025-01-21T17:33:31.634072Z",
     "start_time": "2025-01-21T17:33:31.619637Z"
    }
   },
   "cell_type": "code",
   "source": [
    "try:\n",
    "    config_manager = ConfigurationManager()\n",
    "    data_ingestion_config = config_manager.get_data_ingestion_config()\n",
    "    data_ingestion = DataIngestion(data_ingestion_config)\n",
    "    data_ingestion.download_data()\n",
    "    data_ingestion.extract_zip()\n",
    "except Exception as e:\n",
    "    raise e"
   ],
   "id": "6e2b6afe5d0963f9",
   "outputs": [
    {
     "name": "stdout",
     "output_type": "stream",
     "text": [
      "[2025-01-21 23:03:31,623 - wine_quality_prediction - INFO - YAML file loaded successfully from the path: config\\config.yaml]\n",
      "[2025-01-21 23:03:31,624 - wine_quality_prediction - INFO - YAML file loaded successfully from the path: params.yaml]\n",
      "[2025-01-21 23:03:31,626 - wine_quality_prediction - INFO - YAML file loaded successfully from the path: schema.yaml]\n",
      "[2025-01-21 23:03:31,627 - wine_quality_prediction - INFO - Directory already exists at the path: artifacts]\n",
      "[2025-01-21 23:03:31,629 - wine_quality_prediction - INFO - Directory already exists at the path: artifacts/data_ingestion]\n",
      "[2025-01-21 23:03:31,631 - wine_quality_prediction - INFO - Data already exists at the path: artifacts/data_ingestion/wine_quality_data.zip with the following size info: \n",
      "24.6 KB]\n",
      "[2025-01-21 23:03:31,631 - wine_quality_prediction - INFO - Data already extracted at the path: artifacts/data_ingestion/wine_quality_data]\n"
     ]
    }
   ],
   "execution_count": 9
  },
  {
   "metadata": {
    "ExecuteTime": {
     "end_time": "2025-01-21T17:33:31.677181Z",
     "start_time": "2025-01-21T17:33:31.674218Z"
    }
   },
   "cell_type": "code",
   "source": "",
   "id": "79a3b4a018c2132e",
   "outputs": [],
   "execution_count": null
  }
 ],
 "metadata": {
  "kernelspec": {
   "name": "python3",
   "language": "python",
   "display_name": "Python 3 (ipykernel)"
  }
 },
 "nbformat": 5,
 "nbformat_minor": 9
}
