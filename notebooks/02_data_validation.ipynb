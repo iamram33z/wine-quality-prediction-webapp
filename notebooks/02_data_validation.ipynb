{
 "cells": [
  {
   "cell_type": "code",
   "id": "initial_id",
   "metadata": {
    "collapsed": true,
    "ExecuteTime": {
     "end_time": "2025-01-22T16:07:14.187096Z",
     "start_time": "2025-01-22T16:07:14.067868Z"
    }
   },
   "source": [
    "import os\n",
    "\n",
    "from main import STAGE_NAME"
   ],
   "outputs": [],
   "execution_count": 1
  },
  {
   "metadata": {
    "ExecuteTime": {
     "end_time": "2025-01-22T16:07:14.199866Z",
     "start_time": "2025-01-22T16:07:14.192998Z"
    }
   },
   "cell_type": "code",
   "source": "%pwd",
   "id": "12224ac18649f5ed",
   "outputs": [
    {
     "data": {
      "text/plain": [
       "'C:\\\\Users\\\\RameezRassdeen\\\\Documents\\\\wine-quality-prediction-webapp\\\\notebooks'"
      ]
     },
     "execution_count": 2,
     "metadata": {},
     "output_type": "execute_result"
    }
   ],
   "execution_count": 2
  },
  {
   "metadata": {
    "ExecuteTime": {
     "end_time": "2025-01-22T16:07:14.340234Z",
     "start_time": "2025-01-22T16:07:14.335403Z"
    }
   },
   "cell_type": "code",
   "source": "os.chdir('..')",
   "id": "6552a93426549fe8",
   "outputs": [],
   "execution_count": 3
  },
  {
   "metadata": {
    "ExecuteTime": {
     "end_time": "2025-01-22T16:07:14.609414Z",
     "start_time": "2025-01-22T16:07:14.348382Z"
    }
   },
   "cell_type": "code",
   "source": [
    "import pandas as pd\n",
    "\n",
    "data = pd.read_csv('artifacts/data_ingestion/wine_quality_data/winequality-red.csv')\n",
    "data.head()"
   ],
   "id": "754657606130e002",
   "outputs": [
    {
     "data": {
      "text/plain": [
       "   fixed acidity  volatile acidity  citric acid  residual sugar  chlorides  \\\n",
       "0            7.4              0.70         0.00             1.9      0.076   \n",
       "1            7.8              0.88         0.00             2.6      0.098   \n",
       "2            7.8              0.76         0.04             2.3      0.092   \n",
       "3           11.2              0.28         0.56             1.9      0.075   \n",
       "4            7.4              0.70         0.00             1.9      0.076   \n",
       "\n",
       "   free sulfur dioxide  total sulfur dioxide  density    pH  sulphates  \\\n",
       "0                 11.0                  34.0   0.9978  3.51       0.56   \n",
       "1                 25.0                  67.0   0.9968  3.20       0.68   \n",
       "2                 15.0                  54.0   0.9970  3.26       0.65   \n",
       "3                 17.0                  60.0   0.9980  3.16       0.58   \n",
       "4                 11.0                  34.0   0.9978  3.51       0.56   \n",
       "\n",
       "   alcohol  quality  \n",
       "0      9.4        5  \n",
       "1      9.8        5  \n",
       "2      9.8        5  \n",
       "3      9.8        6  \n",
       "4      9.4        5  "
      ],
      "text/html": [
       "<div>\n",
       "<style scoped>\n",
       "    .dataframe tbody tr th:only-of-type {\n",
       "        vertical-align: middle;\n",
       "    }\n",
       "\n",
       "    .dataframe tbody tr th {\n",
       "        vertical-align: top;\n",
       "    }\n",
       "\n",
       "    .dataframe thead th {\n",
       "        text-align: right;\n",
       "    }\n",
       "</style>\n",
       "<table border=\"1\" class=\"dataframe\">\n",
       "  <thead>\n",
       "    <tr style=\"text-align: right;\">\n",
       "      <th></th>\n",
       "      <th>fixed acidity</th>\n",
       "      <th>volatile acidity</th>\n",
       "      <th>citric acid</th>\n",
       "      <th>residual sugar</th>\n",
       "      <th>chlorides</th>\n",
       "      <th>free sulfur dioxide</th>\n",
       "      <th>total sulfur dioxide</th>\n",
       "      <th>density</th>\n",
       "      <th>pH</th>\n",
       "      <th>sulphates</th>\n",
       "      <th>alcohol</th>\n",
       "      <th>quality</th>\n",
       "    </tr>\n",
       "  </thead>\n",
       "  <tbody>\n",
       "    <tr>\n",
       "      <th>0</th>\n",
       "      <td>7.4</td>\n",
       "      <td>0.70</td>\n",
       "      <td>0.00</td>\n",
       "      <td>1.9</td>\n",
       "      <td>0.076</td>\n",
       "      <td>11.0</td>\n",
       "      <td>34.0</td>\n",
       "      <td>0.9978</td>\n",
       "      <td>3.51</td>\n",
       "      <td>0.56</td>\n",
       "      <td>9.4</td>\n",
       "      <td>5</td>\n",
       "    </tr>\n",
       "    <tr>\n",
       "      <th>1</th>\n",
       "      <td>7.8</td>\n",
       "      <td>0.88</td>\n",
       "      <td>0.00</td>\n",
       "      <td>2.6</td>\n",
       "      <td>0.098</td>\n",
       "      <td>25.0</td>\n",
       "      <td>67.0</td>\n",
       "      <td>0.9968</td>\n",
       "      <td>3.20</td>\n",
       "      <td>0.68</td>\n",
       "      <td>9.8</td>\n",
       "      <td>5</td>\n",
       "    </tr>\n",
       "    <tr>\n",
       "      <th>2</th>\n",
       "      <td>7.8</td>\n",
       "      <td>0.76</td>\n",
       "      <td>0.04</td>\n",
       "      <td>2.3</td>\n",
       "      <td>0.092</td>\n",
       "      <td>15.0</td>\n",
       "      <td>54.0</td>\n",
       "      <td>0.9970</td>\n",
       "      <td>3.26</td>\n",
       "      <td>0.65</td>\n",
       "      <td>9.8</td>\n",
       "      <td>5</td>\n",
       "    </tr>\n",
       "    <tr>\n",
       "      <th>3</th>\n",
       "      <td>11.2</td>\n",
       "      <td>0.28</td>\n",
       "      <td>0.56</td>\n",
       "      <td>1.9</td>\n",
       "      <td>0.075</td>\n",
       "      <td>17.0</td>\n",
       "      <td>60.0</td>\n",
       "      <td>0.9980</td>\n",
       "      <td>3.16</td>\n",
       "      <td>0.58</td>\n",
       "      <td>9.8</td>\n",
       "      <td>6</td>\n",
       "    </tr>\n",
       "    <tr>\n",
       "      <th>4</th>\n",
       "      <td>7.4</td>\n",
       "      <td>0.70</td>\n",
       "      <td>0.00</td>\n",
       "      <td>1.9</td>\n",
       "      <td>0.076</td>\n",
       "      <td>11.0</td>\n",
       "      <td>34.0</td>\n",
       "      <td>0.9978</td>\n",
       "      <td>3.51</td>\n",
       "      <td>0.56</td>\n",
       "      <td>9.4</td>\n",
       "      <td>5</td>\n",
       "    </tr>\n",
       "  </tbody>\n",
       "</table>\n",
       "</div>"
      ]
     },
     "execution_count": 4,
     "metadata": {},
     "output_type": "execute_result"
    }
   ],
   "execution_count": 4
  },
  {
   "metadata": {
    "ExecuteTime": {
     "end_time": "2025-01-22T16:07:14.653270Z",
     "start_time": "2025-01-22T16:07:14.642206Z"
    }
   },
   "cell_type": "code",
   "source": "data.info()",
   "id": "e2385558d1d735d2",
   "outputs": [
    {
     "name": "stdout",
     "output_type": "stream",
     "text": [
      "<class 'pandas.core.frame.DataFrame'>\n",
      "RangeIndex: 1599 entries, 0 to 1598\n",
      "Data columns (total 12 columns):\n",
      " #   Column                Non-Null Count  Dtype  \n",
      "---  ------                --------------  -----  \n",
      " 0   fixed acidity         1599 non-null   float64\n",
      " 1   volatile acidity      1599 non-null   float64\n",
      " 2   citric acid           1599 non-null   float64\n",
      " 3   residual sugar        1599 non-null   float64\n",
      " 4   chlorides             1599 non-null   float64\n",
      " 5   free sulfur dioxide   1599 non-null   float64\n",
      " 6   total sulfur dioxide  1599 non-null   float64\n",
      " 7   density               1599 non-null   float64\n",
      " 8   pH                    1599 non-null   float64\n",
      " 9   sulphates             1599 non-null   float64\n",
      " 10  alcohol               1599 non-null   float64\n",
      " 11  quality               1599 non-null   int64  \n",
      "dtypes: float64(11), int64(1)\n",
      "memory usage: 150.0 KB\n"
     ]
    }
   ],
   "execution_count": 5
  },
  {
   "metadata": {
    "ExecuteTime": {
     "end_time": "2025-01-22T16:07:14.741601Z",
     "start_time": "2025-01-22T16:07:14.735634Z"
    }
   },
   "cell_type": "code",
   "source": [
    "from dataclasses import dataclass\n",
    "from pathlib import Path\n",
    "\n",
    "@dataclass(frozen=True)\n",
    "class DataValidationConfig:\n",
    "    \"\"\"\n",
    "    Configuration for data validation.\n",
    "    \"\"\"\n",
    "    root_dir: Path\n",
    "    STATUS_FILE: str\n",
    "    unzip_data_dir: Path\n",
    "    all_schema: dict"
   ],
   "id": "e8cb46a6832bce12",
   "outputs": [],
   "execution_count": 6
  },
  {
   "metadata": {
    "ExecuteTime": {
     "end_time": "2025-01-22T16:07:14.824467Z",
     "start_time": "2025-01-22T16:07:14.820127Z"
    }
   },
   "cell_type": "code",
   "source": [
    "from wine_quality_prediction.constants import *\n",
    "from wine_quality_prediction.utils.common import read_yaml, create_directory"
   ],
   "id": "ff9b421a56df30e2",
   "outputs": [],
   "execution_count": 7
  },
  {
   "metadata": {
    "ExecuteTime": {
     "end_time": "2025-01-22T16:07:14.879458Z",
     "start_time": "2025-01-22T16:07:14.875343Z"
    }
   },
   "cell_type": "code",
   "source": [
    "class ConfigurationManager:\n",
    "    def __init__(self,\n",
    "            config_file_path: Path = CONFIG_FILE_PATH,\n",
    "            params_file_path: Path = PARAMS_FILE_PATH,\n",
    "            schema_file_path: Path = SCHEMA_FILE_PATH):\n",
    "\n",
    "            self.config = read_yaml(config_file_path)\n",
    "            self.params = read_yaml(params_file_path)\n",
    "            self.schema = read_yaml(schema_file_path)\n",
    "\n",
    "            create_directory([self.config.artifacts_root], verbose=True)\n",
    "\n",
    "    def get_data_validation_config(self) -> DataValidationConfig:\n",
    "        config = self.config.data_validation\n",
    "        schema = self.schema.COLUMNS\n",
    "\n",
    "        create_directory([config.root_dir], verbose=True)\n",
    "\n",
    "        data_validation_config_ = DataValidationConfig(\n",
    "            root_dir=config.root_dir,\n",
    "            STATUS_FILE=config.STATUS_FILE,\n",
    "            unzip_data_dir=config.unzip_data_dir,\n",
    "            all_schema= schema\n",
    "        )\n",
    "\n",
    "        return data_validation_config_"
   ],
   "id": "2f4a2bc6da483cbc",
   "outputs": [],
   "execution_count": 8
  },
  {
   "metadata": {
    "ExecuteTime": {
     "end_time": "2025-01-22T16:07:14.913797Z",
     "start_time": "2025-01-22T16:07:14.910340Z"
    }
   },
   "cell_type": "code",
   "source": "from wine_quality_prediction import logger",
   "id": "5756e75d967751ef",
   "outputs": [],
   "execution_count": 9
  },
  {
   "metadata": {
    "ExecuteTime": {
     "end_time": "2025-01-22T16:07:14.932537Z",
     "start_time": "2025-01-22T16:07:14.927552Z"
    }
   },
   "cell_type": "code",
   "source": [
    "class DataValidation:\n",
    "    def __init__(self, config: DataValidationConfig):\n",
    "        self.config = config\n",
    "\n",
    "    def validate_all_columns(self) -> bool:\n",
    "        try:\n",
    "            validation_status = None\n",
    "\n",
    "            wine_data = pd.read_csv(self.config.unzip_data_dir)\n",
    "            all_cols = list(wine_data.columns)\n",
    "\n",
    "            all_schema = self.config.all_schema.keys()\n",
    "\n",
    "            for col in all_cols:\n",
    "                if col not in all_schema:\n",
    "                    validation_status = False\n",
    "                    with open(self.config.STATUS_FILE, 'w') as file:\n",
    "                        file.write(f\"Validation Status: {validation_status}\")\n",
    "                else:\n",
    "                    validation_status = True\n",
    "                    with open(self.config.STATUS_FILE, 'w') as file:\n",
    "                        file.write(f\"Validation Status: {validation_status}\")\n",
    "            return validation_status\n",
    "\n",
    "        except Exception as e:\n",
    "            logger.exception(e)\n",
    "            raise e"
   ],
   "id": "7f7353c03ed056c7",
   "outputs": [],
   "execution_count": 10
  },
  {
   "metadata": {
    "ExecuteTime": {
     "end_time": "2025-01-22T16:07:14.974858Z",
     "start_time": "2025-01-22T16:07:14.947248Z"
    }
   },
   "cell_type": "code",
   "source": [
    "STAGING_NAME = \"STAGE 02: DATA VALIDATION\"\n",
    "\n",
    "try:\n",
    "    logger.info(f\">>>>> Starting {STAGING_NAME} <<<<<\")\n",
    "    config_manager = ConfigurationManager()\n",
    "    data_validation_config = config_manager.get_data_validation_config()\n",
    "    data_validation = DataValidation(config=data_validation_config)\n",
    "    data_validation.validate_all_columns()\n",
    "    logger.info(f\">>>>> Completed {STAGING_NAME} <<<<<\")\n",
    "\n",
    "except Exception as e:\n",
    "    logger.exception(e)\n",
    "    raise e"
   ],
   "id": "76b2cf8b6781c69e",
   "outputs": [
    {
     "name": "stdout",
     "output_type": "stream",
     "text": [
      "[2025-01-22 21:37:14,949 - wine_quality_prediction - INFO - >>>>> Starting STAGE 02: DATA VALIDATION <<<<<]\n",
      "[2025-01-22 21:37:14,953 - wine_quality_prediction - INFO - YAML file loaded successfully from the path: config\\config.yaml]\n",
      "[2025-01-22 21:37:14,955 - wine_quality_prediction - INFO - YAML file loaded successfully from the path: params.yaml]\n",
      "[2025-01-22 21:37:14,957 - wine_quality_prediction - INFO - YAML file loaded successfully from the path: schema.yaml]\n",
      "[2025-01-22 21:37:14,959 - wine_quality_prediction - INFO - Directory already exists at the path: artifacts]\n",
      "[2025-01-22 21:37:14,961 - wine_quality_prediction - INFO - Directory created at the path: artifacts/data_validation]\n",
      "[2025-01-22 21:37:14,972 - wine_quality_prediction - INFO - >>>>> Completed STAGE 02: DATA VALIDATION <<<<<]\n"
     ]
    }
   ],
   "execution_count": 11
  },
  {
   "metadata": {
    "ExecuteTime": {
     "end_time": "2025-01-22T16:07:15.017392Z",
     "start_time": "2025-01-22T16:07:15.014156Z"
    }
   },
   "cell_type": "code",
   "source": "",
   "id": "797addb7308e6e98",
   "outputs": [],
   "execution_count": null
  }
 ],
 "metadata": {
  "kernelspec": {
   "display_name": "Python 3",
   "language": "python",
   "name": "python3"
  },
  "language_info": {
   "codemirror_mode": {
    "name": "ipython",
    "version": 2
   },
   "file_extension": ".py",
   "mimetype": "text/x-python",
   "name": "python",
   "nbconvert_exporter": "python",
   "pygments_lexer": "ipython2",
   "version": "2.7.6"
  }
 },
 "nbformat": 4,
 "nbformat_minor": 5
}
