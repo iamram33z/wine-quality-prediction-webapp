{
 "cells": [
  {
   "metadata": {
    "ExecuteTime": {
     "end_time": "2025-01-20T16:58:15.850358Z",
     "start_time": "2025-01-20T16:58:15.834023Z"
    }
   },
   "cell_type": "code",
   "source": "d = {\"key\": \"value\", \"key1\": \"value1\", \"key2\": \"value2\", \"key3\": \"value3\"}",
   "id": "def02b8f53b29d9d",
   "outputs": [],
   "execution_count": 21
  },
  {
   "metadata": {
    "ExecuteTime": {
     "end_time": "2025-01-20T16:58:16.821Z",
     "start_time": "2025-01-20T16:58:16.812465Z"
    }
   },
   "cell_type": "code",
   "source": "d[\"key\"]",
   "id": "53490d428190f97",
   "outputs": [
    {
     "data": {
      "text/plain": [
       "'value'"
      ]
     },
     "execution_count": 22,
     "metadata": {},
     "output_type": "execute_result"
    }
   ],
   "execution_count": 22
  },
  {
   "metadata": {
    "ExecuteTime": {
     "end_time": "2025-01-20T16:58:18.183530Z",
     "start_time": "2025-01-20T16:58:18.175148Z"
    }
   },
   "cell_type": "code",
   "source": "from box import ConfigBox",
   "id": "2c6e42cd4336322d",
   "outputs": [],
   "execution_count": 23
  },
  {
   "metadata": {
    "ExecuteTime": {
     "end_time": "2025-01-20T16:58:20.083797Z",
     "start_time": "2025-01-20T16:58:20.077535Z"
    }
   },
   "cell_type": "code",
   "source": "d2= ConfigBox(d)",
   "id": "8ab485e185538f8b",
   "outputs": [],
   "execution_count": 24
  },
  {
   "metadata": {
    "ExecuteTime": {
     "end_time": "2025-01-20T16:04:00.921444Z",
     "start_time": "2025-01-20T16:04:00.900145Z"
    }
   },
   "cell_type": "code",
   "source": "d2",
   "id": "6782d7ea95a86a51",
   "outputs": [
    {
     "data": {
      "text/plain": [
       "ConfigBox({'key': 'value', 'key1': 'value1', 'key2': 'value2', 'key3': 'value3'})"
      ]
     },
     "execution_count": 7,
     "metadata": {},
     "output_type": "execute_result"
    }
   ],
   "execution_count": 7
  },
  {
   "metadata": {
    "ExecuteTime": {
     "end_time": "2025-01-20T16:04:06.601804Z",
     "start_time": "2025-01-20T16:04:06.596707Z"
    }
   },
   "cell_type": "code",
   "source": "d2.key",
   "id": "d6ad1617c8e2c66",
   "outputs": [
    {
     "data": {
      "text/plain": [
       "'value'"
      ]
     },
     "execution_count": 8,
     "metadata": {},
     "output_type": "execute_result"
    }
   ],
   "execution_count": 8
  },
  {
   "metadata": {
    "ExecuteTime": {
     "end_time": "2025-01-20T16:06:26.673072Z",
     "start_time": "2025-01-20T16:06:26.668121Z"
    }
   },
   "cell_type": "code",
   "source": [
    "def get_product (x:int, y:float)->int:\n",
    "    return x*y"
   ],
   "id": "27dff4af76842916",
   "outputs": [],
   "execution_count": 9
  },
  {
   "metadata": {
    "ExecuteTime": {
     "end_time": "2025-01-20T16:06:48.167852Z",
     "start_time": "2025-01-20T16:06:48.160724Z"
    }
   },
   "cell_type": "code",
   "source": "get_product(x=2, y=4)",
   "id": "f733714fbb8679a5",
   "outputs": [
    {
     "data": {
      "text/plain": [
       "8"
      ]
     },
     "execution_count": 10,
     "metadata": {},
     "output_type": "execute_result"
    }
   ],
   "execution_count": 10
  },
  {
   "metadata": {
    "ExecuteTime": {
     "end_time": "2025-01-20T16:06:58.426542Z",
     "start_time": "2025-01-20T16:06:58.420363Z"
    }
   },
   "cell_type": "code",
   "source": "get_product(x=1, y=2.5)",
   "id": "f4c3e0530e6b005b",
   "outputs": [
    {
     "data": {
      "text/plain": [
       "2.5"
      ]
     },
     "execution_count": 11,
     "metadata": {},
     "output_type": "execute_result"
    }
   ],
   "execution_count": 11
  },
  {
   "metadata": {
    "ExecuteTime": {
     "end_time": "2025-01-20T16:07:09.625645Z",
     "start_time": "2025-01-20T16:07:09.618825Z"
    }
   },
   "cell_type": "code",
   "source": "get_product(x=2, y=\"3.5\")",
   "id": "ab1d65655507469d",
   "outputs": [
    {
     "data": {
      "text/plain": [
       "'3.53.5'"
      ]
     },
     "execution_count": 12,
     "metadata": {},
     "output_type": "execute_result"
    }
   ],
   "execution_count": 12
  },
  {
   "metadata": {
    "ExecuteTime": {
     "end_time": "2025-01-20T16:08:37.834173Z",
     "start_time": "2025-01-20T16:08:37.781695Z"
    }
   },
   "cell_type": "code",
   "source": "from ensure import ensure_annotations",
   "id": "291f24a9f8f97a57",
   "outputs": [],
   "execution_count": 13
  },
  {
   "metadata": {
    "ExecuteTime": {
     "end_time": "2025-01-20T16:09:19.693605Z",
     "start_time": "2025-01-20T16:09:19.686581Z"
    }
   },
   "cell_type": "code",
   "source": [
    "@ensure_annotations\n",
    "def get_product (x:int, y:float)->float:\n",
    "    return x*y"
   ],
   "id": "f373aee0ef528052",
   "outputs": [],
   "execution_count": 16
  },
  {
   "metadata": {
    "ExecuteTime": {
     "end_time": "2025-01-20T16:09:40.734039Z",
     "start_time": "2025-01-20T16:09:40.725084Z"
    }
   },
   "cell_type": "code",
   "source": "get_product(x=2, y=4.7)",
   "id": "988389719e1da31b",
   "outputs": [
    {
     "data": {
      "text/plain": [
       "9.4"
      ]
     },
     "execution_count": 18,
     "metadata": {},
     "output_type": "execute_result"
    }
   ],
   "execution_count": 18
  },
  {
   "metadata": {
    "ExecuteTime": {
     "end_time": "2025-01-20T16:16:00.144178Z",
     "start_time": "2025-01-20T16:16:00.136058Z"
    }
   },
   "cell_type": "code",
   "source": "get_product(x=1, y=2.7)",
   "id": "ebb27d335d002f8b",
   "outputs": [
    {
     "data": {
      "text/plain": [
       "2.7"
      ]
     },
     "execution_count": 20,
     "metadata": {},
     "output_type": "execute_result"
    }
   ],
   "execution_count": 20
  },
  {
   "metadata": {},
   "cell_type": "code",
   "outputs": [],
   "execution_count": null,
   "source": "",
   "id": "6b03d45b2ad6e4d4"
  }
 ],
 "metadata": {
  "kernelspec": {
   "name": "python3",
   "language": "python",
   "display_name": "Python 3 (ipykernel)"
  }
 },
 "nbformat": 5,
 "nbformat_minor": 9
}
