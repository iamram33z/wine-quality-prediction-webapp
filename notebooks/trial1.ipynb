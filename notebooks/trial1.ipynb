{
 "cells": [
  {
   "metadata": {
    "ExecuteTime": {
     "end_time": "2025-01-21T16:37:06.979208Z",
     "start_time": "2025-01-21T16:37:06.975065Z"
    }
   },
   "cell_type": "code",
   "source": "d = {\"key\": \"value\", \"key1\": \"value1\", \"key2\": \"value2\", \"key3\": \"value3\"}",
   "id": "def02b8f53b29d9d",
   "outputs": [],
   "execution_count": 1
  },
  {
   "metadata": {
    "ExecuteTime": {
     "end_time": "2025-01-21T16:37:07.504606Z",
     "start_time": "2025-01-21T16:37:07.498987Z"
    }
   },
   "cell_type": "code",
   "source": "d[\"key\"]",
   "id": "53490d428190f97",
   "outputs": [
    {
     "data": {
      "text/plain": [
       "'value'"
      ]
     },
     "execution_count": 2,
     "metadata": {},
     "output_type": "execute_result"
    }
   ],
   "execution_count": 2
  },
  {
   "metadata": {
    "ExecuteTime": {
     "end_time": "2025-01-21T16:37:08.546061Z",
     "start_time": "2025-01-21T16:37:08.518815Z"
    }
   },
   "cell_type": "code",
   "source": "from box import ConfigBox",
   "id": "2c6e42cd4336322d",
   "outputs": [],
   "execution_count": 3
  },
  {
   "metadata": {
    "ExecuteTime": {
     "end_time": "2025-01-21T16:37:10.179110Z",
     "start_time": "2025-01-21T16:37:10.174710Z"
    }
   },
   "cell_type": "code",
   "source": "d2= ConfigBox(d)",
   "id": "8ab485e185538f8b",
   "outputs": [],
   "execution_count": 4
  },
  {
   "metadata": {
    "ExecuteTime": {
     "end_time": "2025-01-21T16:37:11.451142Z",
     "start_time": "2025-01-21T16:37:11.445942Z"
    }
   },
   "cell_type": "code",
   "source": "d2",
   "id": "6782d7ea95a86a51",
   "outputs": [
    {
     "data": {
      "text/plain": [
       "<ConfigBox: {'key': 'value', 'key1': 'value1', 'key2': 'value2', 'key3': 'value3'}>"
      ]
     },
     "execution_count": 5,
     "metadata": {},
     "output_type": "execute_result"
    }
   ],
   "execution_count": 5
  },
  {
   "metadata": {
    "ExecuteTime": {
     "end_time": "2025-01-21T16:37:13.128681Z",
     "start_time": "2025-01-21T16:37:13.122774Z"
    }
   },
   "cell_type": "code",
   "source": "d2.key",
   "id": "d6ad1617c8e2c66",
   "outputs": [
    {
     "data": {
      "text/plain": [
       "'value'"
      ]
     },
     "execution_count": 6,
     "metadata": {},
     "output_type": "execute_result"
    }
   ],
   "execution_count": 6
  },
  {
   "metadata": {
    "ExecuteTime": {
     "end_time": "2025-01-21T16:37:15.111429Z",
     "start_time": "2025-01-21T16:37:15.106283Z"
    }
   },
   "cell_type": "code",
   "source": [
    "def get_product (x:int, y:float)->int:\n",
    "    return x*y"
   ],
   "id": "27dff4af76842916",
   "outputs": [],
   "execution_count": 7
  },
  {
   "metadata": {
    "ExecuteTime": {
     "end_time": "2025-01-21T16:37:16.826446Z",
     "start_time": "2025-01-21T16:37:16.817431Z"
    }
   },
   "cell_type": "code",
   "source": "get_product(x=2, y=4)",
   "id": "f733714fbb8679a5",
   "outputs": [
    {
     "data": {
      "text/plain": [
       "8"
      ]
     },
     "execution_count": 8,
     "metadata": {},
     "output_type": "execute_result"
    }
   ],
   "execution_count": 8
  },
  {
   "metadata": {
    "ExecuteTime": {
     "end_time": "2025-01-21T16:37:17.980223Z",
     "start_time": "2025-01-21T16:37:17.974473Z"
    }
   },
   "cell_type": "code",
   "source": "get_product(x=1, y=2.5)",
   "id": "f4c3e0530e6b005b",
   "outputs": [
    {
     "data": {
      "text/plain": [
       "2.5"
      ]
     },
     "execution_count": 9,
     "metadata": {},
     "output_type": "execute_result"
    }
   ],
   "execution_count": 9
  },
  {
   "metadata": {
    "ExecuteTime": {
     "end_time": "2025-01-21T16:37:19.023268Z",
     "start_time": "2025-01-21T16:37:19.017684Z"
    }
   },
   "cell_type": "code",
   "source": "get_product(x=2, y=\"3.5\")",
   "id": "ab1d65655507469d",
   "outputs": [
    {
     "data": {
      "text/plain": [
       "'3.53.5'"
      ]
     },
     "execution_count": 10,
     "metadata": {},
     "output_type": "execute_result"
    }
   ],
   "execution_count": 10
  },
  {
   "metadata": {
    "ExecuteTime": {
     "end_time": "2025-01-21T16:37:20.359106Z",
     "start_time": "2025-01-21T16:37:20.336820Z"
    }
   },
   "cell_type": "code",
   "source": "from ensure import ensure_annotations",
   "id": "291f24a9f8f97a57",
   "outputs": [],
   "execution_count": 11
  },
  {
   "metadata": {
    "ExecuteTime": {
     "end_time": "2025-01-21T16:37:21.456321Z",
     "start_time": "2025-01-21T16:37:21.450382Z"
    }
   },
   "cell_type": "code",
   "source": [
    "@ensure_annotations\n",
    "def get_product (x:int, y:float)->float:\n",
    "    return x*y"
   ],
   "id": "f373aee0ef528052",
   "outputs": [],
   "execution_count": 12
  },
  {
   "metadata": {
    "ExecuteTime": {
     "end_time": "2025-01-21T16:37:22.902775Z",
     "start_time": "2025-01-21T16:37:22.896192Z"
    }
   },
   "cell_type": "code",
   "source": "get_product(x=2, y=4.7)",
   "id": "988389719e1da31b",
   "outputs": [
    {
     "data": {
      "text/plain": [
       "9.4"
      ]
     },
     "execution_count": 13,
     "metadata": {},
     "output_type": "execute_result"
    }
   ],
   "execution_count": 13
  },
  {
   "metadata": {
    "ExecuteTime": {
     "end_time": "2025-01-21T16:37:23.942199Z",
     "start_time": "2025-01-21T16:37:23.934283Z"
    }
   },
   "cell_type": "code",
   "source": "get_product(x=1, y=2.7)",
   "id": "ebb27d335d002f8b",
   "outputs": [
    {
     "data": {
      "text/plain": [
       "2.7"
      ]
     },
     "execution_count": 14,
     "metadata": {},
     "output_type": "execute_result"
    }
   ],
   "execution_count": 14
  },
  {
   "metadata": {
    "ExecuteTime": {
     "end_time": "2025-01-21T16:38:31.514382Z",
     "start_time": "2025-01-21T16:38:31.510869Z"
    }
   },
   "cell_type": "code",
   "source": [
    "import box  # Replace 'box' with your module name\n",
    "\n",
    "# List all attributes of the module\n",
    "print(dir(box))\n"
   ],
   "id": "6b03d45b2ad6e4d4",
   "outputs": [
    {
     "name": "stdout",
     "output_type": "stream",
     "text": [
      "['BOX_PARAMETERS', 'Box', 'BoxError', 'BoxKeyError', 'BoxList', 'Callable', 'ConfigBox', 'Iterable', 'Mapping', 'SBox', '__all__', '__author__', '__builtins__', '__cached__', '__doc__', '__file__', '__loader__', '__name__', '__package__', '__spec__', '__version__', '_all_cap_re', '_camel_killer', '_conversion_checks', '_first_cap_re', '_from_json', '_from_yaml', '_get_box_config', '_recursive_tuples', '_safe_attr', '_safe_key', '_to_json', '_to_yaml', 'basestring', 'copy', 'json', 'kwlist', 're', 'string', 'sys', 'warnings', 'yaml', 'yaml_support']\n"
     ]
    }
   ],
   "execution_count": 15
  },
  {
   "metadata": {},
   "cell_type": "code",
   "outputs": [],
   "execution_count": null,
   "source": "",
   "id": "d145da2dc2a20efb"
  }
 ],
 "metadata": {
  "kernelspec": {
   "name": "python3",
   "language": "python",
   "display_name": "Python 3 (ipykernel)"
  }
 },
 "nbformat": 5,
 "nbformat_minor": 9
}
