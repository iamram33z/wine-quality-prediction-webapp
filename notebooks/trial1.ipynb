{
 "cells": [
  {
   "metadata": {
    "ExecuteTime": {
     "end_time": "2025-01-20T16:02:48.668123Z",
     "start_time": "2025-01-20T16:02:48.659294Z"
    }
   },
   "cell_type": "code",
   "source": "d = {\"key\": \"value\", \"key1\": \"value1\", \"key2\": \"value2\", \"key3\": \"value3\"}",
   "id": "def02b8f53b29d9d",
   "outputs": [],
   "execution_count": 1
  },
  {
   "metadata": {
    "ExecuteTime": {
     "end_time": "2025-01-20T16:02:59.203578Z",
     "start_time": "2025-01-20T16:02:59.189916Z"
    }
   },
   "cell_type": "code",
   "source": "d[\"key\"]",
   "id": "53490d428190f97",
   "outputs": [
    {
     "data": {
      "text/plain": [
       "'value'"
      ]
     },
     "execution_count": 3,
     "metadata": {},
     "output_type": "execute_result"
    }
   ],
   "execution_count": 3
  },
  {
   "metadata": {
    "ExecuteTime": {
     "end_time": "2025-01-20T16:03:37.910732Z",
     "start_time": "2025-01-20T16:03:37.645675Z"
    }
   },
   "cell_type": "code",
   "source": "from box import ConfigBox",
   "id": "2c6e42cd4336322d",
   "outputs": [],
   "execution_count": 5
  },
  {
   "metadata": {
    "ExecuteTime": {
     "end_time": "2025-01-20T16:03:58.618614Z",
     "start_time": "2025-01-20T16:03:58.611086Z"
    }
   },
   "cell_type": "code",
   "source": "d2= ConfigBox(d)",
   "id": "8ab485e185538f8b",
   "outputs": [],
   "execution_count": 6
  },
  {
   "metadata": {
    "ExecuteTime": {
     "end_time": "2025-01-20T16:04:00.921444Z",
     "start_time": "2025-01-20T16:04:00.900145Z"
    }
   },
   "cell_type": "code",
   "source": "d2",
   "id": "6782d7ea95a86a51",
   "outputs": [
    {
     "data": {
      "text/plain": [
       "ConfigBox({'key': 'value', 'key1': 'value1', 'key2': 'value2', 'key3': 'value3'})"
      ]
     },
     "execution_count": 7,
     "metadata": {},
     "output_type": "execute_result"
    }
   ],
   "execution_count": 7
  },
  {
   "metadata": {
    "ExecuteTime": {
     "end_time": "2025-01-20T16:04:06.601804Z",
     "start_time": "2025-01-20T16:04:06.596707Z"
    }
   },
   "cell_type": "code",
   "source": "d2.key",
   "id": "d6ad1617c8e2c66",
   "outputs": [
    {
     "data": {
      "text/plain": [
       "'value'"
      ]
     },
     "execution_count": 8,
     "metadata": {},
     "output_type": "execute_result"
    }
   ],
   "execution_count": 8
  },
  {
   "metadata": {
    "ExecuteTime": {
     "end_time": "2025-01-20T16:06:26.673072Z",
     "start_time": "2025-01-20T16:06:26.668121Z"
    }
   },
   "cell_type": "code",
   "source": [
    "def get_product (x:int, y:float)->int:\n",
    "    return x*y"
   ],
   "id": "27dff4af76842916",
   "outputs": [],
   "execution_count": 9
  },
  {
   "metadata": {
    "ExecuteTime": {
     "end_time": "2025-01-20T16:06:48.167852Z",
     "start_time": "2025-01-20T16:06:48.160724Z"
    }
   },
   "cell_type": "code",
   "source": "get_product(x=2, y=4)",
   "id": "f733714fbb8679a5",
   "outputs": [
    {
     "data": {
      "text/plain": [
       "8"
      ]
     },
     "execution_count": 10,
     "metadata": {},
     "output_type": "execute_result"
    }
   ],
   "execution_count": 10
  },
  {
   "metadata": {
    "ExecuteTime": {
     "end_time": "2025-01-20T16:06:58.426542Z",
     "start_time": "2025-01-20T16:06:58.420363Z"
    }
   },
   "cell_type": "code",
   "source": "get_product(x=1, y=2.5)",
   "id": "f4c3e0530e6b005b",
   "outputs": [
    {
     "data": {
      "text/plain": [
       "2.5"
      ]
     },
     "execution_count": 11,
     "metadata": {},
     "output_type": "execute_result"
    }
   ],
   "execution_count": 11
  },
  {
   "metadata": {
    "ExecuteTime": {
     "end_time": "2025-01-20T16:07:09.625645Z",
     "start_time": "2025-01-20T16:07:09.618825Z"
    }
   },
   "cell_type": "code",
   "source": "get_product(x=2, y=\"3.5\")",
   "id": "ab1d65655507469d",
   "outputs": [
    {
     "data": {
      "text/plain": [
       "'3.53.5'"
      ]
     },
     "execution_count": 12,
     "metadata": {},
     "output_type": "execute_result"
    }
   ],
   "execution_count": 12
  },
  {
   "metadata": {
    "ExecuteTime": {
     "end_time": "2025-01-20T16:08:37.834173Z",
     "start_time": "2025-01-20T16:08:37.781695Z"
    }
   },
   "cell_type": "code",
   "source": "from ensure import ensure_annotations",
   "id": "291f24a9f8f97a57",
   "outputs": [],
   "execution_count": 13
  },
  {
   "metadata": {
    "ExecuteTime": {
     "end_time": "2025-01-20T16:09:19.693605Z",
     "start_time": "2025-01-20T16:09:19.686581Z"
    }
   },
   "cell_type": "code",
   "source": [
    "@ensure_annotations\n",
    "def get_product (x:int, y:float)->float:\n",
    "    return x*y"
   ],
   "id": "f373aee0ef528052",
   "outputs": [],
   "execution_count": 16
  },
  {
   "metadata": {
    "ExecuteTime": {
     "end_time": "2025-01-20T16:09:40.734039Z",
     "start_time": "2025-01-20T16:09:40.725084Z"
    }
   },
   "cell_type": "code",
   "source": "get_product(x=2, y=4.7)",
   "id": "988389719e1da31b",
   "outputs": [
    {
     "data": {
      "text/plain": [
       "9.4"
      ]
     },
     "execution_count": 18,
     "metadata": {},
     "output_type": "execute_result"
    }
   ],
   "execution_count": 18
  },
  {
   "metadata": {
    "ExecuteTime": {
     "end_time": "2025-01-20T16:09:48.135055Z",
     "start_time": "2025-01-20T16:09:48.095542Z"
    }
   },
   "cell_type": "code",
   "source": "get_product(x=1, y=2)",
   "id": "ebb27d335d002f8b",
   "outputs": [
    {
     "ename": "EnsureError",
     "evalue": "Argument y of type <class 'int'> to <function get_product at 0x000001CB094CE160> does not match annotation type <class 'float'>",
     "output_type": "error",
     "traceback": [
      "\u001B[1;31m---------------------------------------------------------------------------\u001B[0m",
      "\u001B[1;31mEnsureError\u001B[0m                               Traceback (most recent call last)",
      "Cell \u001B[1;32mIn[19], line 1\u001B[0m\n\u001B[1;32m----> 1\u001B[0m \u001B[43mget_product\u001B[49m\u001B[43m(\u001B[49m\u001B[43mx\u001B[49m\u001B[38;5;241;43m=\u001B[39;49m\u001B[38;5;241;43m1\u001B[39;49m\u001B[43m,\u001B[49m\u001B[43m \u001B[49m\u001B[43my\u001B[49m\u001B[38;5;241;43m=\u001B[39;49m\u001B[38;5;241;43m2\u001B[39;49m\u001B[43m)\u001B[49m\n",
      "File \u001B[1;32m~\\Documents\\wine-quality-prediction-webapp\\.venv\\Lib\\site-packages\\ensure\\main.py:870\u001B[0m, in \u001B[0;36mWrappedFunctionReturn.__call__\u001B[1;34m(self, *args, **kwargs)\u001B[0m\n\u001B[0;32m    868\u001B[0m     \u001B[38;5;28;01mif\u001B[39;00m \u001B[38;5;129;01mnot\u001B[39;00m \u001B[38;5;28misinstance\u001B[39m(value, templ):\n\u001B[0;32m    869\u001B[0m         msg \u001B[38;5;241m=\u001B[39m \u001B[38;5;124m\"\u001B[39m\u001B[38;5;124mArgument \u001B[39m\u001B[38;5;132;01m{arg}\u001B[39;00m\u001B[38;5;124m of type \u001B[39m\u001B[38;5;132;01m{valt}\u001B[39;00m\u001B[38;5;124m to \u001B[39m\u001B[38;5;132;01m{f}\u001B[39;00m\u001B[38;5;124m \u001B[39m\u001B[38;5;124m\"\u001B[39m \u001B[38;5;124m\"\u001B[39m\u001B[38;5;124mdoes not match annotation type \u001B[39m\u001B[38;5;132;01m{t}\u001B[39;00m\u001B[38;5;124m\"\u001B[39m\n\u001B[1;32m--> 870\u001B[0m         \u001B[38;5;28;01mraise\u001B[39;00m EnsureError(msg\u001B[38;5;241m.\u001B[39mformat(arg\u001B[38;5;241m=\u001B[39marg, f\u001B[38;5;241m=\u001B[39m\u001B[38;5;28mself\u001B[39m\u001B[38;5;241m.\u001B[39mf, t\u001B[38;5;241m=\u001B[39mtempl, valt\u001B[38;5;241m=\u001B[39m\u001B[38;5;28mtype\u001B[39m(value)))\n\u001B[0;32m    872\u001B[0m return_val \u001B[38;5;241m=\u001B[39m \u001B[38;5;28mself\u001B[39m\u001B[38;5;241m.\u001B[39mf(\u001B[38;5;241m*\u001B[39margs, \u001B[38;5;241m*\u001B[39m\u001B[38;5;241m*\u001B[39mkwargs)\n\u001B[0;32m    873\u001B[0m \u001B[38;5;28;01mif\u001B[39;00m \u001B[38;5;129;01mnot\u001B[39;00m \u001B[38;5;28misinstance\u001B[39m(return_val, \u001B[38;5;28mself\u001B[39m\u001B[38;5;241m.\u001B[39mreturn_templ):\n",
      "\u001B[1;31mEnsureError\u001B[0m: Argument y of type <class 'int'> to <function get_product at 0x000001CB094CE160> does not match annotation type <class 'float'>"
     ]
    }
   ],
   "execution_count": 19
  },
  {
   "metadata": {},
   "cell_type": "code",
   "outputs": [],
   "execution_count": null,
   "source": "",
   "id": "6b03d45b2ad6e4d4"
  }
 ],
 "metadata": {
  "kernelspec": {
   "name": "python3",
   "language": "python",
   "display_name": "Python 3 (ipykernel)"
  }
 },
 "nbformat": 5,
 "nbformat_minor": 9
}
